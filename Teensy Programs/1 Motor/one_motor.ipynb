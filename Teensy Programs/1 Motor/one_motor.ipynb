{
 "cells": [
  {
   "cell_type": "code",
   "execution_count": 3,
   "metadata": {},
   "outputs": [],
   "source": [
    "# list of serial ports available\n",
    "\n",
    "import serial.tools.list_ports\n",
    "ports = serial.tools.list_ports.comports()\n",
    "\n",
    "for p in ports:\n",
    "    print(p)"
   ]
  },
  {
   "cell_type": "code",
   "execution_count": 4,
   "metadata": {},
   "outputs": [
    {
     "name": "stdout",
     "output_type": "stream",
     "text": [
      "Error opening serial port: could not open port 'COM7': FileNotFoundError(2, 'The system cannot find the file specified.', None, 2)\n",
      "Available ports:\n",
      "Failed to connect to Teensy. Exiting.\n"
     ]
    }
   ],
   "source": [
    "import serial\n",
    "import time\n",
    "import serial.tools.list_ports\n",
    "\n",
    "def list_ports():\n",
    "    ports = list(serial.tools.list_ports.comports())\n",
    "    for p in ports:\n",
    "        print(p)\n",
    "\n",
    "def connect_to_teensy():\n",
    "    try:\n",
    "        ser = serial.Serial('COM7', 115200, timeout=1)\n",
    "        time.sleep(2)  # Wait for the serial connection to initialize\n",
    "        print(\"Successfully connected to Teensy on COM7\")\n",
    "        return ser\n",
    "    except serial.SerialException as e:\n",
    "        print(f\"Error opening serial port: {e}\")\n",
    "        print(\"Available ports:\")\n",
    "        list_ports()\n",
    "        return None\n",
    "\n",
    "def send_command(ser, command):\n",
    "    try:\n",
    "        ser.write(command.encode())\n",
    "        if command == 'S':\n",
    "            time.sleep(0.5)  # Longer delay for stop command\n",
    "        else:\n",
    "            time.sleep(0.1)  # Short delay for other commands\n",
    "        response = ser.readline().decode().strip()\n",
    "        print(f\"Teensy response: {response}\")\n",
    "    except serial.SerialException as e:\n",
    "        print(f\"Error sending command: {e}\")\n",
    "\n",
    "def main():\n",
    "    ser = connect_to_teensy()\n",
    "    if not ser:\n",
    "        print(\"Failed to connect to Teensy. Exiting.\")\n",
    "        return\n",
    "\n",
    "    print(\"Stepper Motor Control\")\n",
    "    print(\"Commands:\")\n",
    "    print(\"  R: Rotate clockwise\")\n",
    "    print(\"  L: Rotate counter-clockwise\")\n",
    "    print(\"  S: Stop rotation\")\n",
    "    print(\"  Q: Quit program\")\n",
    "\n",
    "    try:\n",
    "        while True:\n",
    "            command = input(\"Enter command: \").upper()\n",
    "            \n",
    "            if command == 'R':\n",
    "                send_command(ser, 'R')\n",
    "            elif command == 'L':\n",
    "                send_command(ser, 'L')\n",
    "            elif command == 'S':\n",
    "                send_command(ser, 'S')\n",
    "            elif command == 'Q':\n",
    "                print(\"Exiting program.\")\n",
    "                break\n",
    "            else:\n",
    "                print(\"Invalid command. Please try again.\")\n",
    "    except KeyboardInterrupt:\n",
    "        print(\"\\nProgram interrupted by user. Exiting.\")\n",
    "    finally:\n",
    "        if ser:\n",
    "            ser.close()\n",
    "        print(\"Serial port closed. Program ended.\")\n",
    "\n",
    "if __name__ == \"__main__\":\n",
    "    main()"
   ]
  },
  {
   "cell_type": "code",
   "execution_count": null,
   "metadata": {},
   "outputs": [],
   "source": []
  }
 ],
 "metadata": {
  "kernelspec": {
   "display_name": "base",
   "language": "python",
   "name": "python3"
  },
  "language_info": {
   "codemirror_mode": {
    "name": "ipython",
    "version": 3
   },
   "file_extension": ".py",
   "mimetype": "text/x-python",
   "name": "python",
   "nbconvert_exporter": "python",
   "pygments_lexer": "ipython3",
   "version": "3.12.4"
  }
 },
 "nbformat": 4,
 "nbformat_minor": 2
}
