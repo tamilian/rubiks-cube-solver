{
 "cells": [
  {
   "cell_type": "code",
   "execution_count": null,
   "metadata": {},
   "outputs": [
    {
     "name": "stdout",
     "output_type": "stream",
     "text": [
      "COM4 - Standard Serial over Bluetooth link (COM4)\n",
      "COM6 - Standard Serial over Bluetooth link (COM6)\n",
      "COM3 - Standard Serial over Bluetooth link (COM3)\n",
      "COM5 - Standard Serial over Bluetooth link (COM5)\n",
      "COM7 - USB Serial Device (COM7)\n"
     ]
    }
   ],
   "source": [
    "# list of serial ports available\n",
    "\n",
    "import serial.tools.list_ports\n",
    "ports = serial.tools.list_ports.comports()\n",
    "\n",
    "for p in ports:\n",
    "    print(p)"
   ]
  },
  {
   "cell_type": "code",
   "execution_count": 1,
   "metadata": {},
   "outputs": [
    {
     "name": "stdout",
     "output_type": "stream",
     "text": [
      "Successfully connected to Teensy on COM7\n",
      "Stepper Motor Control\n",
      "Commands:\n",
      "  A: Rotate Motor 1 clockwise\n",
      "  B: Rotate Motor 1 counter-clockwise\n",
      "  C: Rotate Motor 2 clockwise\n",
      "  D: Rotate Motor 2 counter-clockwise\n",
      "  S: Stop both motors\n",
      "  Q: Quit program\n",
      "Teensy response: Moving Motor 1 90 Degrees clockwise\n",
      "Teensy response: Moving Motor 1 90 Degrees counter-clockwise\n",
      "Invalid command. Please try again.\n",
      "Teensy response: Moving Motor 2 90 Degrees clockwise\n",
      "Teensy response: Moving Motor 2 90 Degrees counter-clockwise\n",
      "Teensy response: Moving Motor 1 90 Degrees clockwise\n",
      "Teensy response: Moving Motor 1 90 Degrees clockwise\n",
      "Teensy response: Moving Motor 1 90 Degrees counter-clockwise\n",
      "Teensy response: Moving Motor 2 90 Degrees clockwise\n",
      "Teensy response: Moving Motor 2 90 Degrees counter-clockwise\n",
      "Teensy response: Moving Motor 2 90 Degrees clockwise\n",
      "Teensy response: Moving Motor 2 90 Degrees counter-clockwise\n",
      "Teensy response: Moving Motor 2 90 Degrees clockwise\n",
      "Teensy response: Moving Motor 2 90 Degrees counter-clockwise\n",
      "Teensy response: Moving Motor 2 90 Degrees clockwise\n",
      "Teensy response: Moving Motor 2 90 Degrees counter-clockwise\n",
      "Teensy response: Moving Motor 2 90 Degrees clockwise\n",
      "Teensy response: Moving Motor 2 90 Degrees counter-clockwise\n",
      "Teensy response: Moving Motor 2 90 Degrees clockwise\n",
      "Exiting program.\n",
      "Teensy response: \n"
     ]
    }
   ],
   "source": [
    "import serial\n",
    "import time\n",
    "import serial.tools.list_ports\n",
    "\n",
    "def list_ports():\n",
    "    ports = list(serial.tools.list_ports.comports())\n",
    "    for p in ports:\n",
    "        print(p)\n",
    "\n",
    "def connect_to_teensy():\n",
    "    try:\n",
    "        ser = serial.Serial('COM7', 115200, timeout=1)\n",
    "        time.sleep(2)  # Wait for the serial connection to initialize\n",
    "        print(\"Successfully connected to Teensy on COM7\")\n",
    "        return ser\n",
    "    except serial.SerialException as e:\n",
    "        print(f\"Error opening serial port: {e}\")\n",
    "        print(\"Available ports:\")\n",
    "        list_ports()\n",
    "        return None\n",
    "\n",
    "def send_command(ser, command):\n",
    "    try:\n",
    "        ser.write(command.encode())\n",
    "        time.sleep(0.1)  # Short delay to ensure command is sent\n",
    "        response = ser.readline().decode().strip()\n",
    "        print(f\"Teensy response: {response}\")\n",
    "    except serial.SerialException as e:\n",
    "        print(f\"Error sending command: {e}\")\n",
    "\n",
    "def main():\n",
    "    ser = connect_to_teensy()\n",
    "    if not ser:\n",
    "        print(\"Failed to connect to Teensy. Exiting.\")\n",
    "        return\n",
    "\n",
    "    print(\"Stepper Motor Control\")\n",
    "    print(\"Commands:\")\n",
    "    print(\"  A: Rotate Motor 1 clockwise\")\n",
    "    print(\"  B: Rotate Motor 1 counter-clockwise\")\n",
    "    print(\"  C: Rotate Motor 2 clockwise\")\n",
    "    print(\"  D: Rotate Motor 2 counter-clockwise\")\n",
    "    print(\"  S: Stop both motors\")\n",
    "    print(\"  Q: Quit program\")\n",
    "\n",
    "    while True:\n",
    "        command = input(\"Enter command: \").upper()\n",
    "        \n",
    "        if command in ['A', 'B', 'C', 'D', 'S', 'R']:\n",
    "            send_command(ser, command)\n",
    "        elif command == 'Q':\n",
    "            print(\"Exiting program.\")\n",
    "            send_command(ser, 'S')  # Stop motors before quitting\n",
    "            break\n",
    "        else:\n",
    "            print(\"Invalid command. Please try again.\")\n",
    "\n",
    "    ser.close()\n",
    "\n",
    "if __name__ == \"__main__\":\n",
    "    main()"
   ]
  }
 ],
 "metadata": {
  "kernelspec": {
   "display_name": "base",
   "language": "python",
   "name": "python3"
  },
  "language_info": {
   "codemirror_mode": {
    "name": "ipython",
    "version": 3
   },
   "file_extension": ".py",
   "mimetype": "text/x-python",
   "name": "python",
   "nbconvert_exporter": "python",
   "pygments_lexer": "ipython3",
   "version": "3.11.7"
  }
 },
 "nbformat": 4,
 "nbformat_minor": 2
}
