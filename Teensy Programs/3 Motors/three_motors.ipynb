{
 "cells": [
  {
   "cell_type": "code",
   "execution_count": 1,
   "metadata": {},
   "outputs": [
    {
     "name": "stdout",
     "output_type": "stream",
     "text": [
      "COM4 - Standard Serial over Bluetooth link (COM4)\n",
      "COM6 - Standard Serial over Bluetooth link (COM6)\n",
      "COM3 - Standard Serial over Bluetooth link (COM3)\n",
      "COM5 - Standard Serial over Bluetooth link (COM5)\n"
     ]
    }
   ],
   "source": [
    "# list of serial ports available\n",
    "\n",
    "import serial.tools.list_ports\n",
    "ports = serial.tools.list_ports.comports()\n",
    "\n",
    "for p in ports:\n",
    "    print(p)\n",
    "    "
   ]
  },
  {
   "cell_type": "code",
   "execution_count": 1,
   "metadata": {},
   "outputs": [
    {
     "name": "stdout",
     "output_type": "stream",
     "text": [
      "Successfully connected to Teensy on 'COM7'\n",
      "Stepper Motor Control\n",
      "Commands for testing:\n",
      "  A: Rotate Motor 1 clockwise\n",
      "  B: Rotate Motor 1 counter-clockwise\n",
      "  C: Rotate Motor 2 clockwise\n",
      "  D: Rotate Motor 2 counter-clockwise\n",
      "  E: Rotate Motor 3 clockwise\n",
      "  F: Rotate Motor 3 counter-clockwise\n",
      "  R: Reset motors to original positions\n",
      "  Q: Quit program\n",
      "Teensy response: Moving Motor 1 90 Degrees clockwise\n",
      "Teensy response: Moving Motor 1 90 Degrees clockwise\n",
      "Teensy response: Moving Motor 1 90 Degrees counter-clockwise\n",
      "Teensy response: Moving Motor 2 90 Degrees clockwise\n",
      "Teensy response: Moving Motor 2 90 Degrees clockwise\n",
      "Teensy response: Moving Motor 2 90 Degrees counter-clockwise\n",
      "Teensy response: Moving Motor 2 90 Degrees counter-clockwise\n",
      "Teensy response: Moving Motor 3 90 Degrees clockwise.\n",
      "Teensy response: Moving Motor 3 90 Degrees clockwise.\n",
      "Teensy response: Moving Motor 3 90 Degrees counter-clockwise\n",
      "Teensy response: Moving Motor 3 90 Degrees counter-clockwise\n",
      "Quitting program. Will reset motor position.\n",
      "Teensy response: Invalid command.\n"
     ]
    }
   ],
   "source": [
    "import serial\n",
    "import time\n",
    "import serial.tools.list_ports\n",
    "\n",
    "def list_ports():\n",
    "    \"\"\"List all available serial ports.\"\"\"\n",
    "    ports = serial.tools.list_ports.comports()\n",
    "    for p in ports:\n",
    "        print(p)\n",
    "\n",
    "def connect_to_teensy():\n",
    "    \"\"\"Attempt to connect to the Teensy on a specific COM port.\"\"\"\n",
    "    try:\n",
    "        # Adjust the port to match your specific Teensy connection\n",
    "        ser = serial.Serial('COM7', 115200, timeout=2)  # Corrected baud rate to 115200\n",
    "        time.sleep(2)  # Wait for the serial connection to initialize\n",
    "        print(\"Successfully connected to Teensy on 'COM7'\")\n",
    "        return ser\n",
    "    except serial.SerialException as e:\n",
    "        print(f\"Error opening serial port: {e}\")\n",
    "        print(\"Here are the available ports:\")\n",
    "        list_ports()\n",
    "        return None\n",
    "\n",
    "def send_commands(ser, command):\n",
    "    \"\"\"Send a command to the Teensy and print the response.\"\"\"\n",
    "    try:\n",
    "        ser.write(command.encode())\n",
    "        time.sleep(0.1)\n",
    "        response = ser.readline().decode().strip()\n",
    "        print(f\"Teensy response: {response}\")\n",
    "    except serial.SerialException as e:\n",
    "        print(f\"Error sending command: {e}\")\n",
    "\n",
    "def main():\n",
    "    ser = connect_to_teensy()\n",
    "\n",
    "    if not ser:\n",
    "        print(\"Failed to connect to Teensy. Exiting.\")\n",
    "        return\n",
    "    \n",
    "    print(\"Stepper Motor Control\")\n",
    "    print(\"Commands for testing:\")\n",
    "    print(\"  A: Rotate Motor 1 clockwise\")\n",
    "    print(\"  B: Rotate Motor 1 counter-clockwise\")\n",
    "    print(\"  C: Rotate Motor 2 clockwise\")\n",
    "    print(\"  D: Rotate Motor 2 counter-clockwise\")\n",
    "    print(\"  E: Rotate Motor 3 clockwise\")\n",
    "    print(\"  F: Rotate Motor 3 counter-clockwise\")\n",
    "    print(\"  R: Reset motors to original positions\")\n",
    "    print(\"  Q: Quit program\")\n",
    "\n",
    "    while True:\n",
    "        command = input(\"Enter command: \").upper()\n",
    "\n",
    "        if command in ['A', 'B', 'C', 'D', 'E', 'F', 'R']:\n",
    "            send_commands(ser, command)\n",
    "        elif command == 'Q':\n",
    "            print(\"Quitting program. Will reset motor position.\")\n",
    "            send_commands(ser, 'R')  # Reset motors before quitting\n",
    "            break\n",
    "        else:\n",
    "            print(\"Invalid command. Please try again and input a valid command.\")\n",
    "    \n",
    "    ser.close()\n",
    "\n",
    "if __name__ == \"__main__\":\n",
    "    main()\n"
   ]
  }
 ],
 "metadata": {
  "kernelspec": {
   "display_name": "base",
   "language": "python",
   "name": "python3"
  },
  "language_info": {
   "codemirror_mode": {
    "name": "ipython",
    "version": 3
   },
   "file_extension": ".py",
   "mimetype": "text/x-python",
   "name": "python",
   "nbconvert_exporter": "python",
   "pygments_lexer": "ipython3",
   "version": "3.11.7"
  }
 },
 "nbformat": 4,
 "nbformat_minor": 2
}
