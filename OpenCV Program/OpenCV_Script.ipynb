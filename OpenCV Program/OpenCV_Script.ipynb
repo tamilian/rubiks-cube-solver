{
 "cells": [
  {
   "cell_type": "code",
   "execution_count": 1,
   "metadata": {},
   "outputs": [
    {
     "name": "stdout",
     "output_type": "stream",
     "text": [
      "Requirement already satisfied: opencv-python in c:\\users\\nttam\\anaconda3\\lib\\site-packages (4.10.0.82)\n",
      "Requirement already satisfied: kociemba in c:\\users\\nttam\\anaconda3\\lib\\site-packages (1.2.1)\n",
      "Requirement already satisfied: numpy>=1.21.2 in c:\\users\\nttam\\anaconda3\\lib\\site-packages (from opencv-python) (1.26.4)\n",
      "Requirement already satisfied: cffi>=1.0.0 in c:\\users\\nttam\\anaconda3\\lib\\site-packages (from kociemba) (1.16.0)\n",
      "Requirement already satisfied: future in c:\\users\\nttam\\anaconda3\\lib\\site-packages (from kociemba) (0.18.3)\n",
      "Requirement already satisfied: pycparser in c:\\users\\nttam\\anaconda3\\lib\\site-packages (from cffi>=1.0.0->kociemba) (2.21)\n"
     ]
    }
   ],
   "source": [
    "!pip install opencv-python kociemba"
   ]
  },
  {
   "cell_type": "code",
   "execution_count": 2,
   "metadata": {},
   "outputs": [
    {
     "name": "stdout",
     "output_type": "stream",
     "text": [
      "Requirement already satisfied: numpy in c:\\users\\nttam\\anaconda3\\lib\\site-packages (1.26.4)\n"
     ]
    }
   ],
   "source": [
    "!pip install numpy"
   ]
  },
  {
   "cell_type": "code",
   "execution_count": 3,
   "metadata": {},
   "outputs": [
    {
     "name": "stdout",
     "output_type": "stream",
     "text": [
      "Requirement already satisfied: kociemba in c:\\users\\nttam\\anaconda3\\lib\\site-packages (1.2.1)\n",
      "Requirement already satisfied: cffi>=1.0.0 in c:\\users\\nttam\\anaconda3\\lib\\site-packages (from kociemba) (1.16.0)\n",
      "Requirement already satisfied: future in c:\\users\\nttam\\anaconda3\\lib\\site-packages (from kociemba) (0.18.3)\n",
      "Requirement already satisfied: pycparser in c:\\users\\nttam\\anaconda3\\lib\\site-packages (from cffi>=1.0.0->kociemba) (2.21)\n",
      "Note: you may need to restart the kernel to use updated packages.\n"
     ]
    }
   ],
   "source": [
    "pip install kociemba\n"
   ]
  },
  {
   "cell_type": "code",
   "execution_count": 4,
   "metadata": {},
   "outputs": [
    {
     "name": "stdout",
     "output_type": "stream",
     "text": [
      "Requirement already satisfied: RubikTwoPhase in c:\\users\\nttam\\anaconda3\\lib\\site-packages (1.1.1)\n"
     ]
    }
   ],
   "source": [
    "!pip install RubikTwoPhase"
   ]
  },
  {
   "cell_type": "code",
   "execution_count": 2,
   "metadata": {},
   "outputs": [
    {
     "name": "stdout",
     "output_type": "stream",
     "text": [
      "Collecting pyserial\n",
      "  Downloading pyserial-3.5-py2.py3-none-any.whl.metadata (1.6 kB)\n",
      "Downloading pyserial-3.5-py2.py3-none-any.whl (90 kB)\n",
      "   ---------------------------------------- 0.0/90.6 kB ? eta -:--:--\n",
      "   ------------------ --------------------- 41.0/90.6 kB 991.0 kB/s eta 0:00:01\n",
      "   ---------------------------------------- 90.6/90.6 kB 1.3 MB/s eta 0:00:00\n",
      "Installing collected packages: pyserial\n",
      "Successfully installed pyserial-3.5\n"
     ]
    }
   ],
   "source": [
    "!pip install pyserial"
   ]
  },
  {
   "cell_type": "code",
   "execution_count": 5,
   "metadata": {},
   "outputs": [],
   "source": [
    "import cv2\n",
    "import numpy as np\n",
    "#import kociemba\n",
    "import twophase.solver  as sv\n",
    "import serial\n",
    "import time\n",
    "import serial.tools.list_ports"
   ]
  },
  {
   "cell_type": "code",
   "execution_count": null,
   "metadata": {},
   "outputs": [],
   "source": [
    "# list of serial ports available\n",
    "\n",
    "import serial.tools.list_ports\n",
    "ports = serial.tools.list_ports.comports()\n",
    "\n",
    "for p in ports:\n",
    "    print(p)"
   ]
  },
  {
   "cell_type": "code",
   "execution_count": null,
   "metadata": {},
   "outputs": [],
   "source": [
    "\"\"\"\n",
    "Methodlogy:\n",
    "\n",
    "1) 9 circles in the middle of webcam which will capture colors of cube\n",
    "2) Take those circles, make it into hsv colorspace\n",
    "3) \n",
    "3) 3d array will be used as input, just convert it to string using join() method\n",
    "\n",
    "for when we have to look at color, we can hardcode logic that identifies each new face\n",
    "based on the color of center piece, and then appends it accordingly to into 3d array\n",
    "\n",
    "For Kociemba Module\n",
    "\n",
    "U: Yellow Center Face\n",
    "L: Blue Center Face\n",
    "F: Red Center Face\n",
    "R: Green Center Face\n",
    "B: Blue Center Face\n",
    "D: White Center Face\n",
    "\"\"\""
   ]
  },
  {
   "cell_type": "code",
   "execution_count": 1,
   "metadata": {},
   "outputs": [
    {
     "name": "stdout",
     "output_type": "stream",
     "text": [
      "Failed to grab frame.\n",
      "Cube Input String: ??????????????????????????????????????????????????????\n",
      "Error: name 'sv' is not defined\n"
     ]
    },
    {
     "ename": "NameError",
     "evalue": "name 'solution' is not defined",
     "output_type": "error",
     "traceback": [
      "\u001b[1;31m---------------------------------------------------------------------------\u001b[0m",
      "\u001b[1;31mNameError\u001b[0m                                 Traceback (most recent call last)",
      "Cell \u001b[1;32mIn[1], line 217\u001b[0m\n\u001b[0;32m    213\u001b[0m     \u001b[38;5;28mprint\u001b[39m(\u001b[38;5;124mf\u001b[39m\u001b[38;5;124m\"\u001b[39m\u001b[38;5;124mError: \u001b[39m\u001b[38;5;132;01m{\u001b[39;00me\u001b[38;5;132;01m}\u001b[39;00m\u001b[38;5;124m\"\u001b[39m)\n\u001b[0;32m    216\u001b[0m \u001b[38;5;66;03m# this is the array \u001b[39;00m\n\u001b[1;32m--> 217\u001b[0m output_array \u001b[38;5;241m=\u001b[39m two_phase_solution_to_arduino(solution)\n\u001b[0;32m    219\u001b[0m ser \u001b[38;5;241m=\u001b[39m serial\u001b[38;5;241m.\u001b[39mSerial(\u001b[38;5;124m'\u001b[39m\u001b[38;5;124m/dev/ttyACM0\u001b[39m\u001b[38;5;124m'\u001b[39m, \u001b[38;5;241m9600\u001b[39m, timeout\u001b[38;5;241m=\u001b[39m\u001b[38;5;241m5\u001b[39m)\n\u001b[0;32m    221\u001b[0m \u001b[38;5;28;01mdef\u001b[39;00m \u001b[38;5;21msend_move\u001b[39m(move): \u001b[38;5;66;03m# this will be called within the \u001b[39;00m\n",
      "\u001b[1;31mNameError\u001b[0m: name 'solution' is not defined"
     ]
    }
   ],
   "source": [
    "import cv2\n",
    "import numpy as np\n",
    "\n",
    "# sets video capture to default webcam\n",
    "# then we set the dimensions of the video capture\n",
    "\n",
    "cap = cv2.VideoCapture(0)\n",
    "\n",
    "cap.set(cv2.CAP_PROP_FRAME_WIDTH, 1280)\n",
    "cap.set(cv2.CAP_PROP_FRAME_HEIGHT,720)\n",
    "\n",
    "\n",
    "# define circle positions\n",
    "center_coordinate_x = 640\n",
    "center_coordinate_y = 360  # Fixed typo here\n",
    "offset_pixel_distance = 60\n",
    "\n",
    "\n",
    "# calculated circle positions organized as a grid\n",
    "circle_coordinates = [(center_coordinate_x - offset_pixel_distance, center_coordinate_y + offset_pixel_distance), (center_coordinate_x, center_coordinate_y + offset_pixel_distance), (center_coordinate_x + offset_pixel_distance, center_coordinate_y + offset_pixel_distance), # top row\n",
    "                      (center_coordinate_x - offset_pixel_distance, center_coordinate_y), (center_coordinate_x, center_coordinate_y), (center_coordinate_x + offset_pixel_distance, center_coordinate_y), # middle row\n",
    "                      (center_coordinate_x - offset_pixel_distance, center_coordinate_y - offset_pixel_distance), (center_coordinate_x, center_coordinate_y - offset_pixel_distance), (center_coordinate_x + offset_pixel_distance, center_coordinate_y - offset_pixel_distance)] # bottom row\n",
    "\n",
    "# 3d array that holds the input cube state\n",
    "input_cube_array = np.empty((6,3,3), dtype = str)\n",
    "\n",
    "#compare hsv values and return color\n",
    "def get_color(hue, sat, val):\n",
    "    if sat < 50 and val > 180:\n",
    "        return \"W\"\n",
    "    elif (hue < 10 or hue > 170) and sat > 70:  # Adjusted red range and added saturation check\n",
    "        return \"R\"\n",
    "    elif 10 <= hue < 25 and sat > 70 and val > 50:  # Adjusted orange range and added saturation/value checks\n",
    "        return \"O\"\n",
    "    elif 25 <= hue < 35 and sat > 50:\n",
    "        return \"Y\"\n",
    "    elif 35 <= hue < 85 and sat > 40:\n",
    "        return \"G\"\n",
    "    elif 85 <= hue < 130 and sat > 40:\n",
    "        return \"B\"\n",
    "    else:\n",
    "        return \"U\"  # unknown\n",
    "    \n",
    "def array_to_string(input_cube_array):\n",
    "\n",
    "    twophase_output_string = \"\"\n",
    "    \n",
    "    DIMENSION_1 = 6\n",
    "    DIMENSION_2 = 3\n",
    "    DIMENSION_3 = 3\n",
    "\n",
    "    for x in range(DIMENSION_1):\n",
    "        for y in range(DIMENSION_2):\n",
    "            for z in range(DIMENSION_3):\n",
    "                twophase_output_string += input_cube_array[x][y][z]\n",
    "    \n",
    "    return twophase_output_string\n",
    "\n",
    "# order of faces to scan\n",
    "face_order = [\"Yellow\", \"Green\", \"Red\", \"White\", \"Blue\", \"Orange\"]\n",
    "face_index = 0\n",
    "\n",
    "# webcam logic\n",
    "while True:\n",
    "\n",
    "    # something new i learned\n",
    "    # ret is a bool variable that returns true if the frame is available\n",
    "    # frame is an image array vector captured based on default frames per second\n",
    "    \n",
    "    ret, frame = cap.read()\n",
    "\n",
    "    # if webcame is not working\n",
    "    if not ret:\n",
    "        print(\"Failed to grab frame.\")\n",
    "        break\n",
    "\n",
    "    # cv2.cv.flip(src, flipCode[, dst] )\n",
    "    # 1 for dst which will mirror live stream\n",
    "\n",
    "    frame = cv2.flip(frame, 1)\n",
    "\n",
    "    # converting frame to hsv\n",
    "    hsv_frame = cv2.cvtColor(frame, cv2.COLOR_BGR2HSV)\n",
    "\n",
    "\n",
    "    # now add the circles onto the frame\n",
    "    # we need to loop through the coordinates and draw the circles\n",
    "    # for j,k in my_list (stack overflow)\n",
    "    for (c_x, c_y) in circle_coordinates:\n",
    "\n",
    "        cv2.circle(frame, (c_x, c_y), 7, (25, 25, 25), 2)\n",
    "        pixel_center_hsv = hsv_frame[c_y, c_x]  # Changed from frame to hsv_frame\n",
    "        color = get_color(pixel_center_hsv[0], pixel_center_hsv[1], pixel_center_hsv[2])\n",
    "        \n",
    "        # display the current color to the right\n",
    "        cv2.putText(frame, color, (c_x + 10, c_y), cv2.FONT_HERSHEY_SIMPLEX,0.5,(0, 0, 0),2)\n",
    "\n",
    "    # display current being displayed\n",
    "    cv2.putText(frame, f\"Scanning: {face_order[face_index]} Center Face\", (10, 30), cv2.FONT_HERSHEY_SIMPLEX, 1, (255, 255, 255), 2)\n",
    "\n",
    "    cv2.imshow(\"Rubik's Cube Scanner\", frame)\n",
    "\n",
    "\n",
    "    key = cv2.waitKey(1) & 0xFF\n",
    "\n",
    "    # logic for taking input for cube\n",
    "\n",
    "    # if spacebar is pressed, capture the colors\n",
    "    if key == ord(' '):\n",
    "        for i, (c_x, c_y) in enumerate(circle_coordinates):\n",
    "            print(f\"Scanning face: {face_order[face_index]}\")\n",
    "            # Images in OpenCV are represented by NumPy arrays. To access a particular image pixel, all we need to do is pass in the (x, y)-coordinates as image[y, x]:\n",
    "            pixel_center_hsv = hsv_frame[c_y,c_x]  #\n",
    "            \n",
    "            color = get_color(pixel_center_hsv[0], pixel_center_hsv[1], pixel_center_hsv[2])\n",
    "\n",
    "            input_cube_array[face_index, i // 3, i % 3] = color\n",
    "            \n",
    "            print(f\"Square {i+1}: {color}\")\n",
    "\n",
    "        face_index +=1\n",
    "    \n",
    "        # if all 6 sides are scanned, we are done\n",
    "        if (face_index >=6):\n",
    "            print(\"All faces scanned.\")\n",
    "            break\n",
    "\n",
    "\n",
    "    # have a stop condition (click q for quit)\n",
    "    if key == ord('q'):\n",
    "        break\n",
    "\n",
    "cap.release()\n",
    "cv2.destroyAllWindows()\n",
    "\n",
    "#print(\"Final Cube State: \")\n",
    "#print(input_cube_array)\n",
    "\n",
    "def color_notation_to_kociemba_notation(str):\n",
    "\n",
    "    if str == \"Y\":\n",
    "        return \"U\"\n",
    "    \n",
    "    elif str == \"B\":\n",
    "        return \"L\"\n",
    "    \n",
    "    elif str == \"R\":\n",
    "        return \"F\"\n",
    "    \n",
    "    elif str == \"G\":\n",
    "        return \"R\"\n",
    "    \n",
    "    elif str == \"O\":\n",
    "        return \"B\"\n",
    "    \n",
    "    elif str == \"W\":\n",
    "        return \"D\"\n",
    "    \n",
    "    else:\n",
    "        return \"?\"\n",
    "\n",
    "\n",
    "def array_to_string(input_cube_array):\n",
    "\n",
    "    twophase_output_string = \"\"\n",
    "    \n",
    "    DIMENSION_1 = 6\n",
    "    DIMENSION_2 = 3\n",
    "    DIMENSION_3 = 3\n",
    "\n",
    "    for x in range(DIMENSION_1):\n",
    "        for y in range(DIMENSION_2):\n",
    "            for z in range(DIMENSION_3):\n",
    "                # we need to convert from colors to the actual sides\n",
    "                str_temp = \"\"\n",
    "                str_temp = color_notation_to_kociemba_notation(input_cube_array[x][y][z])\n",
    "                twophase_output_string += str_temp\n",
    "    \n",
    "    return twophase_output_string\n",
    "\n",
    "def two_phase_solution_to_arduino(input_string):\n",
    "\n",
    "    split_string = input_string.split()\n",
    "    arduino_commands = []\n",
    "\n",
    "    for move in split_string:\n",
    "        if move == '(':\n",
    "            continue\n",
    "\n",
    "        face = move[0]\n",
    "        quantity_of_move = move[1]\n",
    "\n",
    "\n",
    "\n",
    "        if quantity_of_move == '1':\n",
    "                arduino_commands.append(face)\n",
    "        elif quantity_of_move == '2':\n",
    "                arduino_commands.extend([face], [face])\n",
    "        elif quantity_of_move == '3':\n",
    "            for i in range(3):\n",
    "                arduino_commands.extend([face], [face], [face])\n",
    "\n",
    "    return arduino_commands\n",
    "\n",
    "cube_string = array_to_string(input_cube_array)\n",
    "print(f\"Cube Input String: {cube_string}\")\n",
    "\n",
    "try: \n",
    "    solution = sv.solve(cube_string, 25, 5)\n",
    "    print(f\"Solution: {solution}\")\n",
    "\n",
    "except Exception as e:\n",
    "    print(f\"Error: {e}\")\n",
    "\n",
    "\n",
    "# this is the array \n",
    "output_array = two_phase_solution_to_arduino(solution)\n",
    "\n",
    "ser = serial.Serial('/dev/ttyACM0', 9600, timeout=5)\n",
    "\n",
    "def send_move(move): # this will be called within the \n",
    "    ser.write(move.encode())\n",
    "    response = ser.readline().decode().strip()\n",
    "    if response != \"OK\":\n",
    "        raise Exception(f\"Move {move} failed\")\n",
    "    \n",
    "def send_moves(moves):\n",
    "    for move in moves:\n",
    "        send_move(move)\n",
    "        print(f\"Completed move: {move}\")\n",
    "\n",
    "# try except statement for send moves method\n",
    "\n",
    "try: \n",
    "    send_moves(output_array)\n",
    "    print(\"All moves completed succesfully.\")\n",
    "\n",
    "except Exception as e:\n",
    "    print(f\"Error \")\n",
    "\n",
    "    \n",
    "\n"
   ]
  },
  {
   "cell_type": "code",
   "execution_count": null,
   "metadata": {},
   "outputs": [],
   "source": [
    "class Motor:\n",
    "    def __init__(self, name):\n",
    "        self.name = name\n",
    "\n",
    "    def move(self, direction):\n",
    "        "
   ]
  }
 ],
 "metadata": {
  "kernelspec": {
   "display_name": "base",
   "language": "python",
   "name": "python3"
  },
  "language_info": {
   "codemirror_mode": {
    "name": "ipython",
    "version": 3
   },
   "file_extension": ".py",
   "mimetype": "text/x-python",
   "name": "python",
   "nbconvert_exporter": "python",
   "pygments_lexer": "ipython3",
   "version": "3.12.4"
  }
 },
 "nbformat": 4,
 "nbformat_minor": 2
}
